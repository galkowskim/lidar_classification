{
 "cells": [
  {
   "cell_type": "code",
   "execution_count": 1,
   "metadata": {
    "collapsed": true
   },
   "outputs": [],
   "source": [
    "from pathlib import Path\n",
    "\n",
    "data_dir = Path(\"../data\")"
   ]
  },
  {
   "cell_type": "code",
   "execution_count": 2,
   "metadata": {
    "collapsed": false
   },
   "outputs": [],
   "source": [
    "import geopandas as gpd\n",
    "\n",
    "hel_gdansk_data_dir = data_dir / \"raw\" / \"shapefile\" / \"emodnet\" / \"hel_gdansk_data\"\n",
    "\n",
    "gdf = gpd.read_file(hel_gdansk_data_dir / \"coastal_type_20210501_0_80k.shp\")"
   ]
  },
  {
   "cell_type": "code",
   "execution_count": 3,
   "metadata": {
    "collapsed": false
   },
   "outputs": [],
   "source": [
    "import laspy as lp\n",
    "import numpy as np\n",
    "from pyproj import Transformer\n",
    "import os\n",
    "from tqdm import tqdm"
   ]
  },
  {
   "cell_type": "code",
   "execution_count": 4,
   "metadata": {
    "collapsed": false
   },
   "outputs": [],
   "source": [
    "las_file = lp.read(data_dir / \"las/N-33-47-C-c-3-4.las\")\n",
    "\n",
    "dataset = np.vstack([las_file.x, las_file.y, las_file.z]).T"
   ]
  },
  {
   "cell_type": "code",
   "execution_count": 5,
   "metadata": {
    "collapsed": false
   },
   "outputs": [],
   "source": [
    "def transform_to_lonlat(dataset: np.array) -> np.array:\n",
    "    \"\"\"\n",
    "    Convert coordinates from .las file to longitude and latitude.\n",
    "\n",
    "    Args:\n",
    "        dataset (np.array): Array of coordinates.\n",
    "\n",
    "    Returns:\n",
    "        np.array: Array of longitude and latitude coordinates.\n",
    "    \"\"\"\n",
    "\n",
    "    source = \"EPSG:2180\"  # PL-1992 is the projection used in the dataset\n",
    "    dest = \"EPSG:4326\"  # WGS84, the standard for GPS coordinates used all over the world\n",
    "\n",
    "    # Create a transformer object\n",
    "    transformer = Transformer.from_crs(source, dest, always_xy=True)\n",
    "\n",
    "    x = dataset[:, 0]\n",
    "    y = dataset[:, 1]\n",
    "    z = dataset[:, 2]\n",
    "\n",
    "    # Transform the coordinates\n",
    "    lon, lat = transformer.transform(x, y)\n",
    "    # Create a new array with the transformed coordinates\n",
    "    transformed_coordinates = np.vstack((lon, lat, z)).T\n",
    "    return transformed_coordinates"
   ]
  },
  {
   "cell_type": "code",
   "execution_count": 6,
   "metadata": {
    "collapsed": false
   },
   "outputs": [],
   "source": [
    "transformed_dataset = transform_to_lonlat(dataset)"
   ]
  },
  {
   "cell_type": "code",
   "execution_count": 7,
   "metadata": {
    "collapsed": false
   },
   "outputs": [],
   "source": [
    "import geopandas as gpd\n",
    "import pandas as pd\n",
    "from shapely.geometry import Point\n",
    "\n",
    "# lidar_data is a NumPy array with shape (n, 3)\n",
    "# Columns: x, y, z\n",
    "lidar_df = pd.DataFrame(transformed_dataset, columns=[\"x\", \"y\", \"z\"])\n",
    "lidar_df[\"geometry\"] = [Point(xy) for xy in zip(lidar_df[\"x\"], lidar_df[\"y\"])]\n",
    "lidar_gdf = gpd.GeoDataFrame(lidar_df, geometry=\"geometry\", crs=gdf.crs)  # Make sure CRS matches!"
   ]
  },
  {
   "cell_type": "code",
   "execution_count": 8,
   "metadata": {
    "collapsed": false
   },
   "outputs": [],
   "source": [
    "lidar_gdf = lidar_gdf.to_crs(gdf.crs)"
   ]
  },
  {
   "cell_type": "code",
   "execution_count": 9,
   "metadata": {
    "collapsed": false
   },
   "outputs": [
    {
     "name": "stderr",
     "output_type": "stream",
     "text": [
      "O:\\studia\\DataScienceMasters\\10th_semester\\lidar_classification\\.venv\\Lib\\site-packages\\geopandas\\array.py:403: UserWarning: Geometry is in a geographic CRS. Results from 'sjoin_nearest' are likely incorrect. Use 'GeoSeries.to_crs()' to re-project geometries to a projected CRS before this operation.\n",
      "\n",
      "  warnings.warn(\n"
     ]
    }
   ],
   "source": [
    "merged_gdf = gpd.sjoin_nearest(\n",
    "    lidar_gdf,\n",
    "    gdf[[\"coasttype\", \"geometry\"]],  # Only need coasttype and geometry\n",
    "    how=\"left\",\n",
    "    distance_col=\"dist_to_line\",\n",
    ")"
   ]
  },
  {
   "cell_type": "code",
   "execution_count": 10,
   "metadata": {
    "collapsed": false
   },
   "outputs": [
    {
     "data": {
      "text/html": "<div>\n<style scoped>\n    .dataframe tbody tr th:only-of-type {\n        vertical-align: middle;\n    }\n\n    .dataframe tbody tr th {\n        vertical-align: top;\n    }\n\n    .dataframe thead th {\n        text-align: right;\n    }\n</style>\n<table border=\"1\" class=\"dataframe\">\n  <thead>\n    <tr style=\"text-align: right;\">\n      <th></th>\n      <th>x</th>\n      <th>y</th>\n      <th>z</th>\n      <th>coasttype</th>\n    </tr>\n  </thead>\n  <tbody>\n    <tr>\n      <th>0</th>\n      <td>17.047468</td>\n      <td>54.670739</td>\n      <td>-2.79</td>\n      <td>Sand beach fronting upland (&gt; 1 Km long)</td>\n    </tr>\n    <tr>\n      <th>1</th>\n      <td>17.047475</td>\n      <td>54.670739</td>\n      <td>-2.78</td>\n      <td>Sand beach fronting upland (&gt; 1 Km long)</td>\n    </tr>\n    <tr>\n      <th>2</th>\n      <td>17.047483</td>\n      <td>54.670739</td>\n      <td>-2.77</td>\n      <td>Sand beach fronting upland (&gt; 1 Km long)</td>\n    </tr>\n    <tr>\n      <th>3</th>\n      <td>17.047491</td>\n      <td>54.670739</td>\n      <td>-2.76</td>\n      <td>Sand beach fronting upland (&gt; 1 Km long)</td>\n    </tr>\n    <tr>\n      <th>4</th>\n      <td>17.047429</td>\n      <td>54.670734</td>\n      <td>-2.80</td>\n      <td>Sand beach fronting upland (&gt; 1 Km long)</td>\n    </tr>\n    <tr>\n      <th>...</th>\n      <td>...</td>\n      <td>...</td>\n      <td>...</td>\n      <td>...</td>\n    </tr>\n    <tr>\n      <th>2687846</th>\n      <td>17.062461</td>\n      <td>54.666668</td>\n      <td>1.16</td>\n      <td>Sand beach fronting upland (&gt; 1 Km long)</td>\n    </tr>\n    <tr>\n      <th>2687847</th>\n      <td>17.062469</td>\n      <td>54.666668</td>\n      <td>1.14</td>\n      <td>Sand beach fronting upland (&gt; 1 Km long)</td>\n    </tr>\n    <tr>\n      <th>2687848</th>\n      <td>17.062477</td>\n      <td>54.666669</td>\n      <td>1.09</td>\n      <td>Sand beach fronting upland (&gt; 1 Km long)</td>\n    </tr>\n    <tr>\n      <th>2687849</th>\n      <td>17.062485</td>\n      <td>54.666669</td>\n      <td>1.04</td>\n      <td>Sand beach fronting upland (&gt; 1 Km long)</td>\n    </tr>\n    <tr>\n      <th>2687850</th>\n      <td>17.062492</td>\n      <td>54.666669</td>\n      <td>1.06</td>\n      <td>Sand beach fronting upland (&gt; 1 Km long)</td>\n    </tr>\n  </tbody>\n</table>\n<p>2687851 rows × 4 columns</p>\n</div>",
      "text/plain": "                 x          y     z                                 coasttype\n0        17.047468  54.670739 -2.79  Sand beach fronting upland (> 1 Km long)\n1        17.047475  54.670739 -2.78  Sand beach fronting upland (> 1 Km long)\n2        17.047483  54.670739 -2.77  Sand beach fronting upland (> 1 Km long)\n3        17.047491  54.670739 -2.76  Sand beach fronting upland (> 1 Km long)\n4        17.047429  54.670734 -2.80  Sand beach fronting upland (> 1 Km long)\n...            ...        ...   ...                                       ...\n2687846  17.062461  54.666668  1.16  Sand beach fronting upland (> 1 Km long)\n2687847  17.062469  54.666668  1.14  Sand beach fronting upland (> 1 Km long)\n2687848  17.062477  54.666669  1.09  Sand beach fronting upland (> 1 Km long)\n2687849  17.062485  54.666669  1.04  Sand beach fronting upland (> 1 Km long)\n2687850  17.062492  54.666669  1.06  Sand beach fronting upland (> 1 Km long)\n\n[2687851 rows x 4 columns]"
     },
     "execution_count": 10,
     "metadata": {},
     "output_type": "execute_result"
    }
   ],
   "source": [
    "final_df = merged_gdf[[\"x\", \"y\", \"z\", \"coasttype\"]]\n",
    "final_df"
   ]
  },
  {
   "cell_type": "code",
   "execution_count": 14,
   "metadata": {
    "collapsed": false
   },
   "outputs": [
    {
     "name": "stderr",
     "output_type": "stream",
     "text": [
      "  0%|          | 0/294 [00:00<?, ?it/s]O:\\studia\\DataScienceMasters\\10th_semester\\lidar_classification\\.venv\\Lib\\site-packages\\geopandas\\array.py:403: UserWarning: Geometry is in a geographic CRS. Results from 'sjoin_nearest' are likely incorrect. Use 'GeoSeries.to_crs()' to re-project geometries to a projected CRS before this operation.\n",
      "\n",
      "  warnings.warn(\n",
      "C:\\Users\\mikol\\AppData\\Local\\Temp\\ipykernel_27212\\1796992843.py:19: FutureWarning: The behavior of DataFrame concatenation with empty or all-NA entries is deprecated. In a future version, this will no longer exclude empty or all-NA columns when determining the result dtypes. To retain the old behavior, exclude the relevant entries before the concat operation.\n",
      "  final_df = pd.concat([final_df, merged_gdf[[\"x\", \"y\", \"z\", \"coasttype\"]]])\n",
      " 24%|██▍       | 71/294 [00:26<01:21,  2.73it/s]O:\\studia\\DataScienceMasters\\10th_semester\\lidar_classification\\.venv\\Lib\\site-packages\\geopandas\\array.py:403: UserWarning: Geometry is in a geographic CRS. Results from 'sjoin_nearest' are likely incorrect. Use 'GeoSeries.to_crs()' to re-project geometries to a projected CRS before this operation.\n",
      "\n",
      "  warnings.warn(\n",
      " 24%|██▍       | 72/294 [00:58<03:39,  1.01it/s]O:\\studia\\DataScienceMasters\\10th_semester\\lidar_classification\\.venv\\Lib\\site-packages\\geopandas\\array.py:403: UserWarning: Geometry is in a geographic CRS. Results from 'sjoin_nearest' are likely incorrect. Use 'GeoSeries.to_crs()' to re-project geometries to a projected CRS before this operation.\n",
      "\n",
      "  warnings.warn(\n",
      " 25%|██▍       | 73/294 [01:38<07:35,  2.06s/it]O:\\studia\\DataScienceMasters\\10th_semester\\lidar_classification\\.venv\\Lib\\site-packages\\geopandas\\array.py:403: UserWarning: Geometry is in a geographic CRS. Results from 'sjoin_nearest' are likely incorrect. Use 'GeoSeries.to_crs()' to re-project geometries to a projected CRS before this operation.\n",
      "\n",
      "  warnings.warn(\n",
      " 25%|██▌       | 74/294 [02:18<12:48,  3.49s/it]O:\\studia\\DataScienceMasters\\10th_semester\\lidar_classification\\.venv\\Lib\\site-packages\\geopandas\\array.py:403: UserWarning: Geometry is in a geographic CRS. Results from 'sjoin_nearest' are likely incorrect. Use 'GeoSeries.to_crs()' to re-project geometries to a projected CRS before this operation.\n",
      "\n",
      "  warnings.warn(\n",
      " 25%|██▌       | 74/294 [02:49<08:22,  2.29s/it]\n"
     ]
    }
   ],
   "source": [
    "final_df = pd.DataFrame(columns=[\"x\", \"y\", \"z\", \"coasttype\"])\n",
    "i = 0\n",
    "\n",
    "for file in tqdm(os.listdir(\"../data/las\")):\n",
    "    if file.endswith(\".las\") and \"N-34-37\" in file:\n",
    "        las_file = lp.read(os.path.join(\"../data/las\", file))\n",
    "        dataset = np.vstack([las_file.x, las_file.y, las_file.z]).T\n",
    "        transformed_dataset = transform_to_lonlat(dataset)\n",
    "        lidar_df = pd.DataFrame(transformed_dataset, columns=[\"x\", \"y\", \"z\"])\n",
    "        lidar_df[\"geometry\"] = [Point(xy) for xy in zip(lidar_df[\"x\"], lidar_df[\"y\"])]\n",
    "        lidar_gdf = gpd.GeoDataFrame(lidar_df, geometry=\"geometry\", crs=gdf.crs)\n",
    "        lidar_gdf = lidar_gdf.to_crs(gdf.crs)\n",
    "        merged_gdf = gpd.sjoin_nearest(\n",
    "            lidar_gdf,\n",
    "            gdf[[\"coasttype\", \"geometry\"]],  # Only need coasttype and geometry\n",
    "            how=\"left\",\n",
    "            distance_col=\"dist_to_line\",\n",
    "        )\n",
    "        final_df = pd.concat([final_df, merged_gdf[[\"x\", \"y\", \"z\", \"coasttype\"]]])\n",
    "\n",
    "        i += 1\n",
    "        if i == 10:\n",
    "            break"
   ]
  },
  {
   "cell_type": "code",
   "execution_count": 15,
   "metadata": {
    "collapsed": false
   },
   "outputs": [
    {
     "data": {
      "text/plain": "coasttype\nSand beach fronting upland (> 1 Km long)    12514137\nName: count, dtype: int64"
     },
     "execution_count": 15,
     "metadata": {},
     "output_type": "execute_result"
    }
   ],
   "source": [
    "final_df.coasttype.value_counts()"
   ]
  },
  {
   "cell_type": "code",
   "execution_count": null,
   "metadata": {
    "collapsed": false
   },
   "outputs": [],
   "source": []
  }
 ],
 "metadata": {
  "kernelspec": {
   "display_name": "Python 3",
   "language": "python",
   "name": "python3"
  },
  "language_info": {
   "codemirror_mode": {
    "name": "ipython",
    "version": 2
   },
   "file_extension": ".py",
   "mimetype": "text/x-python",
   "name": "python",
   "nbconvert_exporter": "python",
   "pygments_lexer": "ipython2",
   "version": "2.7.6"
  }
 },
 "nbformat": 4,
 "nbformat_minor": 0
}
